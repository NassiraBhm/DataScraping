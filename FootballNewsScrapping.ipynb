{
 "cells": [
  {
   "cell_type": "code",
   "execution_count": null,
   "id": "efdb4cf1",
   "metadata": {},
   "outputs": [],
   "source": [
    "import pandas as pd\n",
    "from selenium import webdriver \n",
    "from selenium.webdriver.chrome.service import Service\n",
    "from selenium.webdriver.chrome.options import Options\n",
    "from webdriver_manager.chrome import ChromeDriverManager\n",
    "import os\n",
    "import sys\n",
    "from datetime import datetime\n"
   ]
  },
  {
   "cell_type": "code",
   "execution_count": null,
   "id": "a4ec3583",
   "metadata": {},
   "outputs": [],
   "source": [
    "now = datetime.now()\n",
    "month_day_year = now.strftime(\"%m%d%Y\")"
   ]
  },
  {
   "cell_type": "code",
   "execution_count": null,
   "id": "cdcbd307",
   "metadata": {},
   "outputs": [],
   "source": [
    "application_path = os.getcwd() "
   ]
  },
  {
   "cell_type": "code",
   "execution_count": null,
   "id": "be6e75a2",
   "metadata": {},
   "outputs": [],
   "source": [
    "web = 'https://www.thesun.co.uk/sport/football/'"
   ]
  },
  {
   "cell_type": "code",
   "execution_count": null,
   "id": "9314c764",
   "metadata": {},
   "outputs": [],
   "source": [
    "options = Options()\n",
    "options.add_argument('--headless')  \n",
    "options.add_argument('--disable-gpu') \n",
    "driver = webdriver.Chrome(service=Service(ChromeDriverManager().install()), options=options)\n",
    "driver.get(web)"
   ]
  },
  {
   "cell_type": "code",
   "execution_count": null,
   "id": "bd8b5248",
   "metadata": {},
   "outputs": [],
   "source": [
    "containers = driver.find_elements(by='xpath', value='//div[@class=\"teaser__copy-container\"]')"
   ]
  },
  {
   "cell_type": "code",
   "execution_count": null,
   "id": "da6dadb4",
   "metadata": {},
   "outputs": [],
   "source": [
    "titles = []\n",
    "subtitles = []\n",
    "links = []\n",
    "\n",
    "for container in containers:\n",
    "    try:\n",
    "        title = container.find_element(by='xpath', value='.//h3').text\n",
    "    except:\n",
    "        title = ''\n",
    "\n",
    "    try:\n",
    "        subtitle = container.find_element(by='xpath', value='./a/p').text\n",
    "    except:\n",
    "        subtitle = '' \n",
    "\n",
    "    try:\n",
    "        link = container.find_element(by='xpath', value='./a').get_attribute('href')\n",
    "    except:\n",
    "        link = ''\n",
    "\n",
    "    titles.append(title)\n",
    "    subtitles.append(subtitle)\n",
    "    links.append(link)"
   ]
  },
  {
   "cell_type": "code",
   "execution_count": null,
   "id": "e622362a",
   "metadata": {},
   "outputs": [],
   "source": [
    "my_dict = {'title': titles, 'subtitle': subtitles, 'link': links}\n",
    "headlines_df = pd.DataFrame(my_dict)\n",
    "file_name = f'football_headlines_{month_day_year}.csv'\n",
    "final_path = os.path.join(application_path, file_name)\n",
    "headlines_df.to_csv(final_path)"
   ]
  },
  {
   "cell_type": "code",
   "execution_count": null,
   "id": "d39c2bcd",
   "metadata": {},
   "outputs": [],
   "source": [
    "driver.quit()"
   ]
  }
 ],
 "metadata": {
  "language_info": {
   "name": "python"
  }
 },
 "nbformat": 4,
 "nbformat_minor": 5
}
