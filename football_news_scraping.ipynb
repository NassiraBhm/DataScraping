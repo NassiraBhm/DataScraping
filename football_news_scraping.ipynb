import pandas as pd
from selenium import webdriver 
from selenium.webdriver.chrome.service import Service
from selenium.webdriver.chrome.options import Options
from webdriver_manager.chrome import ChromeDriverManager
import os
import sys
from datetime import datetime

now = datetime.now()
month_day_year = now.strftime("%m%d%Y")

application_path = os.getcwd() 

web = 'https://www.thesun.co.uk/sport/football/'

options = Options()
options.add_argument('--headless')  
options.add_argument('--disable-gpu') 
driver = webdriver.Chrome(service=Service(ChromeDriverManager().install()), options=options)
driver.get(web)

containers = driver.find_elements(by='xpath', value='//div[@class="teaser__copy-container"]')

titles = []
subtitles = []
links = []

for container in containers:
    try:
        title = container.find_element(by='xpath', value='.//h3').text
    except:
        title = ''

    try:
        subtitle = container.find_element(by='xpath', value='./a/p').text
    except:
        subtitle = '' 

    try:
        link = container.find_element(by='xpath', value='./a').get_attribute('href')
    except:
        link = ''

    titles.append(title)
    subtitles.append(subtitle)
    links.append(link)
    

my_dict = {title : titles, subtitle :  subtitles, link: links}
headlines_df = pd.DataFrame(my_dict)
file_name = f'football_headlines_{month_day_year}.csv'
final_path = os.path.join(application_path, file_name)

driver.quit()

